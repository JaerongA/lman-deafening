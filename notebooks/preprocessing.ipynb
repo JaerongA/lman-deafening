{
 "cells": [
  {
   "cell_type": "code",
   "execution_count": 1,
   "id": "6ecbce9f-097c-4d44-b092-7a7dc2d51a75",
   "metadata": {
    "tags": []
   },
   "outputs": [
    {
     "ename": "ImportError",
     "evalue": "cannot import name 'plot' from 'pyfinch.preprocessing' (c:\\Users\\jaero\\miniconda3\\envs\\lman-deafening\\lib\\site-packages\\pyfinch\\preprocessing.py)",
     "output_type": "error",
     "traceback": [
      "\u001b[1;31m---------------------------------------------------------------------------\u001b[0m",
      "\u001b[1;31mImportError\u001b[0m                               Traceback (most recent call last)",
      "\u001b[1;32mc:\\Users\\jaero\\Box\\Project\\lman-deafening\\results\\preprocessing.ipynb Cell 1\u001b[0m in \u001b[0;36m<cell line: 1>\u001b[1;34m()\u001b[0m\n\u001b[1;32m----> <a href='vscode-notebook-cell:/c%3A/Users/jaero/Box/Project/lman-deafening/results/preprocessing.ipynb#W0sZmlsZQ%3D%3D?line=0'>1</a>\u001b[0m \u001b[39mfrom\u001b[39;00m \u001b[39mpyfinch\u001b[39;00m\u001b[39m.\u001b[39;00m\u001b[39mpreprocessing\u001b[39;00m \u001b[39mimport\u001b[39;00m plot\n\u001b[0;32m      <a href='vscode-notebook-cell:/c%3A/Users/jaero/Box/Project/lman-deafening/results/preprocessing.ipynb#W0sZmlsZQ%3D%3D?line=2'>3</a>\u001b[0m fig_size\u001b[39m=\u001b[39m[\u001b[39m6\u001b[39m, \u001b[39m4\u001b[39m]\n\u001b[0;32m      <a href='vscode-notebook-cell:/c%3A/Users/jaero/Box/Project/lman-deafening/results/preprocessing.ipynb#W0sZmlsZQ%3D%3D?line=4'>5</a>\u001b[0m data_dir \u001b[39m=\u001b[39m \u001b[39m\"\u001b[39m\u001b[39m~\u001b[39m\u001b[39m\\\u001b[39m\u001b[39mProject\u001b[39m\u001b[39m\\\u001b[39m\u001b[39msample_data\u001b[39m\u001b[39m\\\u001b[39m\u001b[39mSongs\u001b[39m\u001b[39m\"\u001b[39m\n",
      "\u001b[1;31mImportError\u001b[0m: cannot import name 'plot' from 'pyfinch.preprocessing' (c:\\Users\\jaero\\miniconda3\\envs\\lman-deafening\\lib\\site-packages\\pyfinch\\preprocessing.py)"
     ]
    }
   ],
   "source": [
    "from pyfinch.preprocessing import plot\n",
    "\n",
    "fig_size=[6, 4]\n",
    "\n",
    "data_dir = \"~\\Project\\sample_data\\Songs\"\n",
    "\n",
    "plot.notestat(data_path=data_dir, fig_name='figure', fig_size=fig_size, save_fig=False)"
   ]
  },
  {
   "cell_type": "code",
   "execution_count": null,
   "id": "a4d23430-e24e-4d34-be4c-ea1de2f1507a",
   "metadata": {},
   "outputs": [],
   "source": []
  }
 ],
 "metadata": {
  "kernelspec": {
   "display_name": "Python 3.9.13 ('lman-deafening')",
   "language": "python",
   "name": "python3"
  },
  "language_info": {
   "codemirror_mode": {
    "name": "ipython",
    "version": 3
   },
   "file_extension": ".py",
   "mimetype": "text/x-python",
   "name": "python",
   "nbconvert_exporter": "python",
   "pygments_lexer": "ipython3",
   "version": "3.9.13"
  },
  "vscode": {
   "interpreter": {
    "hash": "39cd447f53bf965220a121466dc92546d907b35a6f37d0626151a01c0aea3627"
   }
  }
 },
 "nbformat": 4,
 "nbformat_minor": 5
}
