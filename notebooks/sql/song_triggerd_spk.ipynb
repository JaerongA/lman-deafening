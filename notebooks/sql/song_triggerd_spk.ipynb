{
 "cells": [
  {
   "cell_type": "code",
   "execution_count": 7,
   "id": "dd17a843-d86e-41a7-bc02-56d22f2f9ee2",
   "metadata": {},
   "outputs": [
    {
     "name": "stdout",
     "output_type": "stream",
     "text": [
      "\n",
      "Load cluster 096-g70r40-Predeafening-D07(20191106)-S03-Ch17-Cluster01\n"
     ]
    }
   ],
   "source": [
    "\n",
    "from analysis.parameters import peth_parm, freq_range, peth_parm, tick_length, tick_width, note_color, nb_note_crit\n",
    "from analysis.spike import ClusterInfo, MotifInfo, AudioData\n",
    "from database.load import DBInfo, ProjectLoader, create_db\n",
    "import matplotlib.colors as colors\n",
    "import matplotlib.gridspec as gridspec\n",
    "import matplotlib.pyplot as plt\n",
    "import numpy as np\n",
    "from scipy import stats\n",
    "from util import save\n",
    "from util.functions import myround\n",
    "from util.draw import remove_right_top\n",
    "import warnings\n",
    "warnings.filterwarnings('ignore')\n",
    "\n",
    "# SQL statement\n",
    "query = \"SELECT * FROM cluster WHERE id = 96\"\n",
    "\n",
    "# Load database\n",
    "db = ProjectLoader().load_db()\n",
    "# SQL statement\n",
    "db.execute(query)\n",
    "\n",
    "cluster_db = DBInfo(db.cur.fetchall()[0])\n",
    "name, path = cluster_db.load_cluster_db()\n",
    "unit_nb = int(cluster_db.unit[-2:])\n",
    "channel_nb = int(cluster_db.channel[-2:])\n",
    "format = cluster_db.format\n",
    "motif = cluster_db.motif\n",
    "\n",
    "# Load class object\n",
    "        # Load class object\n",
    "ci = ClusterInfo(path, channel_nb, unit_nb, format, name)  # cluster object\n"
   ]
  },
  {
   "cell_type": "code",
   "execution_count": 10,
   "id": "8f215b9d-ca17-4c25-8f03-0f620c3c7d10",
   "metadata": {},
   "outputs": [
    {
     "data": {
      "text/plain": [
       "['iiiiiiabcdeabcdeabcdeabcd*m*ml*m*',\n",
       " 'mlm*mk*mlm*',\n",
       " 'mlmm*mlmlm*mlm*ml*mlmnmmlmm*mlm*',\n",
       " 'liiiiiabcdeabcdeabcdeabcdeabcdeabcdeabcdeabcdeabcdel*l*',\n",
       " 'l*iiiiiiabcdeabcdeabcdeabc*l*',\n",
       " 'iiiiiabcdeabcdeabcdel*',\n",
       " 'iiiiabcdeabcdeabcd*',\n",
       " 'iiiiabcdeabcden*',\n",
       " 'i*iiiiabcdeabcdeabcdeabcdeabc*',\n",
       " 'iiiiiabcdeabcdeabcden*',\n",
       " 'mmlmmmlmlm*m*',\n",
       " 'iiiiiiabcdeabcdeabcdeabcdeabcdeabcde*',\n",
       " 'iiiiiabcdeabcden*',\n",
       " 'iiiiiabcdeabcdeabcdel*',\n",
       " 'mmlmlmlmlmlmlm*iiiiabcdeabcdeabcd*',\n",
       " 'iiiiiabcdeabcden*',\n",
       " 'i*iiiiabcdeabcdeniabcdeabcdeabcdeabcdeabcdeabcden*',\n",
       " 'iiiiiabcdeabcde*iiabcdeabcdeabcde*',\n",
       " 'i*iiiiiabcdeabcdeabcdeabc*',\n",
       " 'i*i*iiiiiabcdeabcdeabcdeabcdeabcdeabcden*ll*l*']"
      ]
     },
     "execution_count": 10,
     "metadata": {},
     "output_type": "execute_result"
    }
   ],
   "source": [
    "ci.syllables"
   ]
  },
  {
   "cell_type": "code",
   "execution_count": 32,
   "id": "77ae85c6-b36b-4848-b584-a06c88424413",
   "metadata": {},
   "outputs": [],
   "source": [
    "note = 'a'\n",
    "ni = ci.get_note_info(note, pre_buffer=-150, post_buffer=+500)"
   ]
  },
  {
   "cell_type": "code",
   "execution_count": 33,
   "id": "a7c6cf24-3305-4432-bef8-703e7feab4b2",
   "metadata": {},
   "outputs": [
    {
     "data": {
      "text/plain": [
       "1869"
      ]
     },
     "execution_count": 33,
     "metadata": {},
     "output_type": "execute_result"
    }
   ],
   "source": [
    "ni.spk_ts"
   ]
  },
  {
   "cell_type": "code",
   "execution_count": 45,
   "id": "1b3f5b48-e2bf-4f81-bd93-cb5bb09e83ec",
   "metadata": {},
   "outputs": [
    {
     "data": {
      "text/plain": [
       "array([ -50,  -49,  -48, ..., 1447, 1448, 1449])"
      ]
     },
     "execution_count": 45,
     "metadata": {},
     "output_type": "execute_result"
    }
   ],
   "source": [
    "# Draw peri-event histogram (PETH)\n",
    "pi = ni.get_note_peth()  # PETH object (PethInfo)\n",
    "pi.time_bin"
   ]
  },
  {
   "cell_type": "code",
   "execution_count": 44,
   "id": "e60d74c5-b5e6-4362-808c-846797f5cb6e",
   "metadata": {},
   "outputs": [
    {
     "data": {
      "text/plain": [
       "(39, 1500)"
      ]
     },
     "execution_count": 44,
     "metadata": {},
     "output_type": "execute_result"
    }
   ],
   "source": [
    "pi.peth['U'].shape"
   ]
  }
 ],
 "metadata": {
  "kernelspec": {
   "display_name": "Python 3 (ipykernel)",
   "language": "python",
   "name": "python3"
  },
  "language_info": {
   "codemirror_mode": {
    "name": "ipython",
    "version": 3
   },
   "file_extension": ".py",
   "mimetype": "text/x-python",
   "name": "python",
   "nbconvert_exporter": "python",
   "pygments_lexer": "ipython3",
   "version": "3.9.7"
  }
 },
 "nbformat": 4,
 "nbformat_minor": 5
}
