{
 "cells": [
  {
   "cell_type": "code",
   "execution_count": 1,
   "metadata": {},
   "outputs": [
    {
     "data": {
      "text/plain": [
       "{   'connection.charset': '',\n",
       "    'connection.init_function': None,\n",
       "    'custom': {   'database.prefix': 'deafening_',\n",
       "                  'root_dir': '~Box/Data/Deafening Project'},\n",
       "    'database.host': 'localhost',\n",
       "    'database.password': 'simple',\n",
       "    'database.port': 3306,\n",
       "    'database.reconnect': True,\n",
       "    'database.use_tls': None,\n",
       "    'database.user': 'root',\n",
       "    'display.limit': 20,\n",
       "    'display.show_tuple_count': True,\n",
       "    'display.width': 40,\n",
       "    'enable_python_native_blobs': True,\n",
       "    'fetch_format': 'array',\n",
       "    'filepath_checksum_size_limit': None,\n",
       "    'loglevel': 'INFO',\n",
       "    'safemode': True,\n",
       "    'stores': {   'djstore': {   'location': '~Box/Data/Deafening Project',\n",
       "                                 'protocol': 'file',\n",
       "                                 'stage': '~/Box/Project/lman-deafening'}}}"
      ]
     },
     "execution_count": 1,
     "metadata": {},
     "output_type": "execute_result"
    }
   ],
   "source": [
    "import datajoint as dj\n",
    "dj.config\n",
    "dj.conn()"
   ]
  },
  {
   "cell_type": "code",
   "execution_count": 3,
   "metadata": {},
   "outputs": [
    {
     "name": "stderr",
     "output_type": "stream",
     "text": [
      "[2022-09-09 12:03:31,252][INFO]: Connecting root@localhost:3306\n",
      "[2022-09-09 12:03:31,308][INFO]: Connected root@localhost:3306\n"
     ]
    },
    {
     "data": {
      "text/plain": [
       "DataJoint connection (connected) root@localhost:3306"
      ]
     },
     "execution_count": 3,
     "metadata": {},
     "output_type": "execute_result"
    }
   ],
   "source": []
  },
  {
   "cell_type": "code",
   "execution_count": null,
   "metadata": {},
   "outputs": [],
   "source": []
  }
 ],
 "metadata": {
  "kernelspec": {
   "display_name": "Python 3.9.13 ('lman-deafening')",
   "language": "python",
   "name": "python3"
  },
  "language_info": {
   "codemirror_mode": {
    "name": "ipython",
    "version": 3
   },
   "file_extension": ".py",
   "mimetype": "text/x-python",
   "name": "python",
   "nbconvert_exporter": "python",
   "pygments_lexer": "ipython3",
   "version": "3.9.13"
  },
  "orig_nbformat": 4,
  "vscode": {
   "interpreter": {
    "hash": "39cd447f53bf965220a121466dc92546d907b35a6f37d0626151a01c0aea3627"
   }
  }
 },
 "nbformat": 4,
 "nbformat_minor": 2
}
