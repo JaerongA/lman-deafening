{
 "cells": [
  {
   "cell_type": "code",
   "execution_count": 1,
   "id": "51668604-9617-4882-820b-e02b271a0c8e",
   "metadata": {},
   "outputs": [],
   "source": [
    "import numpy as np"
   ]
  },
  {
   "cell_type": "code",
   "execution_count": 2,
   "id": "eaccb137-bade-4d68-ac30-e05fc13293a1",
   "metadata": {},
   "outputs": [],
   "source": [
    "A = np.array([[4, -5, 6], [7, -8, 6], [3/2, -1/2, -2]])\n"
   ]
  },
  {
   "cell_type": "code",
   "execution_count": 5,
   "id": "5f286163-feee-4dd0-9b47-c9930da68b46",
   "metadata": {},
   "outputs": [],
   "source": [
    "vals, vecs = np.linalg.eig(A)"
   ]
  },
  {
   "cell_type": "code",
   "execution_count": 6,
   "id": "fad59f8a-a181-4fb7-ad72-a857554a826c",
   "metadata": {},
   "outputs": [
    {
     "data": {
      "text/plain": [
       "array([[-0.6882472 , -0.66666667,  0.40824829],\n",
       "       [-0.6882472 , -0.66666667, -0.40824829],\n",
       "       [-0.22941573,  0.33333333, -0.81649658]])"
      ]
     },
     "execution_count": 6,
     "metadata": {},
     "output_type": "execute_result"
    }
   ],
   "source": [
    "vecs"
   ]
  },
  {
   "cell_type": "code",
   "execution_count": null,
   "id": "75658c86-9241-4e2f-96cb-77b858be58b3",
   "metadata": {},
   "outputs": [],
   "source": []
  }
 ],
 "metadata": {
  "kernelspec": {
   "display_name": "Python 3 (ipykernel)",
   "language": "python",
   "name": "python3"
  },
  "language_info": {
   "codemirror_mode": {
    "name": "ipython",
    "version": 3
   },
   "file_extension": ".py",
   "mimetype": "text/x-python",
   "name": "python",
   "nbconvert_exporter": "python",
   "pygments_lexer": "ipython3",
   "version": "3.9.7"
  }
 },
 "nbformat": 4,
 "nbformat_minor": 5
}
